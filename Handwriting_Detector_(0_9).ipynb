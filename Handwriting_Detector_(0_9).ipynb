{
  "cells": [
    {
      "cell_type": "markdown",
      "metadata": {
        "id": "view-in-github",
        "colab_type": "text"
      },
      "source": [
        "<a href=\"https://colab.research.google.com/github/YuviM15/Python_Programs/blob/main/Handwriting_Detector_(0_9).ipynb\" target=\"_parent\"><img src=\"https://colab.research.google.com/assets/colab-badge.svg\" alt=\"Open In Colab\"/></a>"
      ]
    },
    {
      "cell_type": "code",
      "execution_count": null,
      "id": "263fac87",
      "metadata": {
        "id": "263fac87"
      },
      "outputs": [],
      "source": [
        "import tensorflow as tf"
      ]
    },
    {
      "cell_type": "code",
      "execution_count": null,
      "id": "7842648c",
      "metadata": {
        "id": "7842648c"
      },
      "outputs": [],
      "source": [
        "mnist = tf.keras.datasets.mnist"
      ]
    },
    {
      "cell_type": "code",
      "execution_count": null,
      "id": "b7df6d56",
      "metadata": {
        "colab": {
          "base_uri": "https://localhost:8080/"
        },
        "id": "b7df6d56",
        "outputId": "44367730-e35b-443c-c094-9dd69ff51e2f"
      },
      "outputs": [
        {
          "output_type": "stream",
          "name": "stdout",
          "text": [
            "Downloading data from https://storage.googleapis.com/tensorflow/tf-keras-datasets/mnist.npz\n",
            "11490434/11490434 [==============================] - 0s 0us/step\n"
          ]
        }
      ],
      "source": [
        "(x_train,y_train),(x_test,y_test)=mnist.load_data()"
      ]
    },
    {
      "cell_type": "code",
      "execution_count": null,
      "id": "8301d980",
      "metadata": {
        "colab": {
          "base_uri": "https://localhost:8080/"
        },
        "id": "8301d980",
        "outputId": "d00ce581-d52a-49a0-d35d-5e6ef69c2257"
      },
      "outputs": [
        {
          "output_type": "execute_result",
          "data": {
            "text/plain": [
              "(60000, 28, 28)"
            ]
          },
          "metadata": {},
          "execution_count": 4
        }
      ],
      "source": [
        "x_train.shape"
      ]
    },
    {
      "cell_type": "code",
      "execution_count": null,
      "id": "0237e06a",
      "metadata": {
        "colab": {
          "base_uri": "https://localhost:8080/",
          "height": 861
        },
        "id": "0237e06a",
        "outputId": "7ee8eb9c-95b0-4500-a226-0b43dae0bb48"
      },
      "outputs": [
        {
          "output_type": "display_data",
          "data": {
            "text/plain": [
              "<Figure size 640x480 with 1 Axes>"
            ],
            "image/png": "[encoded data removed]"
          },
          "metadata": {}
        },
        {
          "output_type": "execute_result",
          "data": {
            "text/plain": [
              "<matplotlib.image.AxesImage at 0x7d2627336ec0>"
            ]
          },
          "metadata": {},
          "execution_count": 5
        },
        {
          "output_type": "display_data",
          "data": {
            "text/plain": [
              "<Figure size 640x480 with 1 Axes>"
            ],
            "image/png": "[encoded data removed]"
          },
          "metadata": {}
        }
      ],
      "source": [
        "import matplotlib.pyplot as plt\n",
        "plt.imshow(x_train[0])\n",
        "plt.show()\n",
        "plt.imshow(x_train[0], cmap=plt.cm.binary)"
      ]
    },
    {
      "cell_type": "code",
      "execution_count": null,
      "id": "f17c41c3",
      "metadata": {
        "id": "f17c41c3"
      },
      "outputs": [],
      "source": [
        "# print(x_train[0])"
      ]
    },
    {
      "cell_type": "code",
      "execution_count": null,
      "id": "582427ee",
      "metadata": {
        "id": "582427ee"
      },
      "outputs": [],
      "source": [
        "x_train=tf.keras.utils.normalize(x_train, axis=1)\n",
        "x_test= tf.keras.utils.normalize(x_test,axis=1)\n",
        "# plt.imshow(x_train[0], cmap=plt.cm.binary)"
      ]
    },
    {
      "cell_type": "code",
      "execution_count": null,
      "id": "a19c5491",
      "metadata": {
        "id": "a19c5491"
      },
      "outputs": [],
      "source": [
        "# print(x_train[0])"
      ]
    },
    {
      "cell_type": "code",
      "execution_count": null,
      "id": "41fabf59",
      "metadata": {
        "id": "41fabf59"
      },
      "outputs": [],
      "source": [
        "# print(y_train[0])"
      ]
    },
    {
      "cell_type": "code",
      "execution_count": null,
      "id": "672ae8f3",
      "metadata": {
        "colab": {
          "base_uri": "https://localhost:8080/"
        },
        "id": "672ae8f3",
        "outputId": "21153f09-1dbf-44a5-fff9-e377da1a2616"
      },
      "outputs": [
        {
          "output_type": "stream",
          "name": "stdout",
          "text": [
            "Training diamension (60000, 28, 28, 1)\n",
            "Test diamension (10000, 28, 28, 1)\n"
          ]
        }
      ],
      "source": [
        "import numpy as np\n",
        "IMG_SIZE=28\n",
        "x_trainr=np.array(x_train).reshape(-1,IMG_SIZE,IMG_SIZE,1)\n",
        "x_testr=np.array(x_test).reshape(-1,IMG_SIZE,IMG_SIZE,1)\n",
        "print(\"Training diamension\",x_trainr.shape)\n",
        "print(\"Test diamension\",x_testr.shape)"
      ]
    },
    {
      "cell_type": "code",
      "execution_count": null,
      "id": "85a71c6b",
      "metadata": {
        "id": "85a71c6b"
      },
      "outputs": [],
      "source": [
        "from tensorflow.keras.models import Sequential\n",
        "from tensorflow.keras.layers import Dense, Dropout, Activation,Flatten, Conv2D, MaxPooling2D"
      ]
    },
    {
      "cell_type": "code",
      "execution_count": null,
      "id": "f5cf0916",
      "metadata": {
        "id": "f5cf0916"
      },
      "outputs": [],
      "source": [
        "model= Sequential()\n",
        "\n",
        "model.add(Conv2D(64,(3,3), input_shape= x_trainr.shape[1:]))\n",
        "model.add(Activation(\"relu\"))\n",
        "\n",
        "model.add(Conv2D(64,(3,3)))\n",
        "model.add(Activation(\"relu\"))\n",
        "\n",
        "model.add(MaxPooling2D(pool_size=(2,2)))\n",
        "\n",
        "model.add(Conv2D(96,(3,3)))\n",
        "model.add(Activation(\"relu\"))\n",
        "\n",
        "model.add(Conv2D(96,(3,3)))\n",
        "model.add(Activation(\"relu\"))\n",
        "\n",
        "model.add(MaxPooling2D(pool_size=(2,2)))\n",
        "\n",
        "model.add(Conv2D(128,(3,3)))\n",
        "model.add(Activation(\"relu\"))\n",
        "\n",
        "model.add(MaxPooling2D(pool_size=(2,2)))\n",
        "\n",
        "model.add(Flatten())\n",
        "model.add(Dense(128))\n",
        "model.add(Activation(\"relu\"))\n",
        "\n",
        "# model.add(Dense(64))\n",
        "# model.add(Activation(\"relu\"))\n",
        "\n",
        "model.add(Dense(10))\n",
        "model.add(Activation(\"softmax\"))"
      ]
    },
    {
      "cell_type": "code",
      "execution_count": null,
      "id": "73d74ad3",
      "metadata": {
        "colab": {
          "base_uri": "https://localhost:8080/"
        },
        "id": "73d74ad3",
        "outputId": "328e9503-89dd-48c0-8a0a-ccbc004c8eb3"
      },
      "outputs": [
        {
          "output_type": "stream",
          "name": "stdout",
          "text": [
            "Model: \"sequential_3\"\n",
            "_________________________________________________________________\n",
            " Layer (type)                Output Shape              Param #   \n",
            "=================================================================\n",
            " conv2d_13 (Conv2D)          (None, 26, 26, 64)        640       \n",
            "                                                                 \n",
            " activation_19 (Activation)  (None, 26, 26, 64)        0         \n",
            "                                                                 \n",
            " conv2d_14 (Conv2D)          (None, 24, 24, 64)        36928     \n",
            "                                                                 \n",
            " activation_20 (Activation)  (None, 24, 24, 64)        0         \n",
            "                                                                 \n",
            " max_pooling2d_7 (MaxPoolin  (None, 12, 12, 64)        0         \n",
            " g2D)                                                            \n",
            "                                                                 \n",
            " conv2d_15 (Conv2D)          (None, 10, 10, 96)        55392     \n",
            "                                                                 \n",
            " activation_21 (Activation)  (None, 10, 10, 96)        0         \n",
            "                                                                 \n",
            " conv2d_16 (Conv2D)          (None, 8, 8, 96)          83040     \n",
            "                                                                 \n",
            " activation_22 (Activation)  (None, 8, 8, 96)          0         \n",
            "                                                                 \n",
            " max_pooling2d_8 (MaxPoolin  (None, 4, 4, 96)          0         \n",
            " g2D)                                                            \n",
            "                                                                 \n",
            " conv2d_17 (Conv2D)          (None, 2, 2, 128)         110720    \n",
            "                                                                 \n",
            " activation_23 (Activation)  (None, 2, 2, 128)         0         \n",
            "                                                                 \n",
            " max_pooling2d_9 (MaxPoolin  (None, 1, 1, 128)         0         \n",
            " g2D)                                                            \n",
            "                                                                 \n",
            " flatten_3 (Flatten)         (None, 128)               0         \n",
            "                                                                 \n",
            " dense_6 (Dense)             (None, 128)               16512     \n",
            "                                                                 \n",
            " activation_24 (Activation)  (None, 128)               0         \n",
            "                                                                 \n",
            " dense_7 (Dense)             (None, 10)                1290      \n",
            "                                                                 \n",
            " activation_25 (Activation)  (None, 10)                0         \n",
            "                                                                 \n",
            "=================================================================\n",
            "Total params: 304522 (1.16 MB)\n",
            "Trainable params: 304522 (1.16 MB)\n",
            "Non-trainable params: 0 (0.00 Byte)\n",
            "_________________________________________________________________\n"
          ]
        }
      ],
      "source": [
        "model.summary()"
      ]
    },
    {
      "cell_type": "code",
      "execution_count": null,
      "id": "3d4f8ffe",
      "metadata": {
        "id": "3d4f8ffe"
      },
      "outputs": [],
      "source": [
        "from keras.optimizers import Adam\n",
        "\n",
        "model.compile(loss=\"sparse_categorical_crossentropy\", optimizer=Adam(learning_rate=0.001), metrics=['accuracy'])"
      ]
    },
    {
      "cell_type": "code",
      "execution_count": null,
      "id": "f9c38a6c",
      "metadata": {
        "colab": {
          "base_uri": "https://localhost:8080/"
        },
        "id": "f9c38a6c",
        "outputId": "7c111869-cdae-4286-c836-0652ef23bbac"
      },
      "outputs": [
        {
          "output_type": "stream",
          "name": "stdout",
          "text": [
            "Epoch 1/6\n",
            "1500/1500 [==============================] - 12s 6ms/step - loss: 0.1656 - accuracy: 0.9467 - val_loss: 0.0519 - val_accuracy: 0.9843\n",
            "Epoch 2/6\n",
            "1500/1500 [==============================] - 8s 6ms/step - loss: 0.0506 - accuracy: 0.9845 - val_loss: 0.0464 - val_accuracy: 0.9870\n",
            "Epoch 3/6\n",
            "1500/1500 [==============================] - 9s 6ms/step - loss: 0.0342 - accuracy: 0.9894 - val_loss: 0.0453 - val_accuracy: 0.9882\n",
            "Epoch 4/6\n",
            "1500/1500 [==============================] - 9s 6ms/step - loss: 0.0262 - accuracy: 0.9918 - val_loss: 0.0397 - val_accuracy: 0.9883\n",
            "Epoch 5/6\n",
            "1500/1500 [==============================] - 9s 6ms/step - loss: 0.0219 - accuracy: 0.9933 - val_loss: 0.0333 - val_accuracy: 0.9902\n",
            "Epoch 6/6\n",
            "1500/1500 [==============================] - 9s 6ms/step - loss: 0.0179 - accuracy: 0.9942 - val_loss: 0.0375 - val_accuracy: 0.9890\n"
          ]
        },
        {
          "output_type": "execute_result",
          "data": {
            "text/plain": [
              "<keras.src.callbacks.History at 0x7d254a05f520>"
            ]
          },
          "metadata": {},
          "execution_count": 64
        }
      ],
      "source": [
        "model.fit(x_trainr,y_train,epochs=6,validation_split=0.2)"
      ]
    },
    {
      "cell_type": "code",
      "execution_count": null,
      "id": "dfb7b5ac",
      "metadata": {
        "colab": {
          "base_uri": "https://localhost:8080/"
        },
        "id": "dfb7b5ac",
        "outputId": "830c9021-f492-4c9f-816f-7714882e4ce9"
      },
      "outputs": [
        {
          "output_type": "stream",
          "name": "stdout",
          "text": [
            "313/313 [==============================] - 1s 4ms/step - loss: 0.0324 - accuracy: 0.9922\n",
            "Test loss of 10k 0.03240368515253067\n",
            "Validation 0.9922000169754028\n"
          ]
        }
      ],
      "source": [
        "test_loss, test_acc=model.evaluate(x_testr,y_test)\n",
        "print(\"Test loss of 10k\",test_loss)\n",
        "print(\"Validation\",test_acc)"
      ]
    },
    {
      "cell_type": "code",
      "execution_count": null,
      "id": "1056bb89",
      "metadata": {
        "colab": {
          "base_uri": "https://localhost:8080/"
        },
        "id": "1056bb89",
        "outputId": "a417e45e-17e3-4207-85f4-e47ca5c8e2d1"
      },
      "outputs": [
        {
          "output_type": "stream",
          "name": "stdout",
          "text": [
            "313/313 [==============================] - 1s 2ms/step\n"
          ]
        }
      ],
      "source": [
        "predictions= model.predict([x_testr])"
      ]
    },
    {
      "cell_type": "code",
      "execution_count": null,
      "id": "deadf81f",
      "metadata": {
        "colab": {
          "base_uri": "https://localhost:8080/"
        },
        "id": "deadf81f",
        "outputId": "1d451df5-726a-4189-af73-f76e837eb47d"
      },
      "outputs": [
        {
          "output_type": "stream",
          "name": "stdout",
          "text": [
            "[[5.70345438e-10 1.55717274e-07 1.46653804e-06 ... 9.99992013e-01\n",
            "  2.74976514e-07 5.89088040e-06]\n",
            " [5.76041748e-06 5.89377755e-08 9.99986887e-01 ... 1.42896739e-09\n",
            "  2.61047035e-07 6.40085451e-09]\n",
            " [4.52505061e-10 9.99988437e-01 1.03325995e-07 ... 2.43704653e-06\n",
            "  8.92947355e-06 7.12325487e-09]\n",
            " ...\n",
            " [1.90104157e-16 1.51079479e-11 1.34412135e-14 ... 1.23358401e-09\n",
            "  2.56980881e-09 1.12186903e-07]\n",
            " [1.66510111e-10 9.00041239e-12 8.36762419e-15 ... 6.10511424e-12\n",
            "  4.32438213e-07 1.95533456e-09]\n",
            " [4.18951061e-08 1.48363211e-10 2.85840129e-10 ... 1.32627329e-11\n",
            "  2.65352842e-08 1.83375051e-10]]\n"
          ]
        }
      ],
      "source": [
        "print(predictions)"
      ]
    },
    {
      "cell_type": "code",
      "execution_count": null,
      "id": "6a742143",
      "metadata": {
        "colab": {
          "base_uri": "https://localhost:8080/",
          "height": 448
        },
        "id": "6a742143",
        "outputId": "b55f5bcb-98b1-4fe2-a238-fc2e8d7fad5b"
      },
      "outputs": [
        {
          "output_type": "stream",
          "name": "stdout",
          "text": [
            "7\n"
          ]
        },
        {
          "output_type": "display_data",
          "data": {
            "text/plain": [
              "<Figure size 640x480 with 1 Axes>"
            ],
            "image/png": "[encoded data removed]"
          },
          "metadata": {}
        }
      ],
      "source": [
        "plt.imshow(x_test[79])\n",
        "print(np.argmax(predictions[79]))"
      ]
    },
    {
      "cell_type": "code",
      "execution_count": null,
      "id": "c9822aca",
      "metadata": {
        "colab": {
          "base_uri": "https://localhost:8080/",
          "height": 430
        },
        "id": "c9822aca",
        "outputId": "b50f538b-c20e-47d9-bc2f-cd12e293f616"
      },
      "outputs": [
        {
          "output_type": "display_data",
          "data": {
            "text/plain": [
              "<Figure size 640x480 with 1 Axes>"
            ],
            "image/png": "[encoded data removed]"
          },
          "metadata": {}
        }
      ],
      "source": [
        "import cv2\n",
        "img=cv2.imread('s1.png')\n",
        "\n",
        "gray=cv2.cvtColor(img,cv2.COLOR_BGR2GRAY)\n",
        "resized=cv2.resize(gray,(28,28),interpolation=cv2.INTER_AREA)\n",
        "plt.imshow(resized)\n",
        "newimg=tf.keras.utils.normalize(resized,axis=1)\n",
        "newimg=np.array(newimg).reshape(-1, IMG_SIZE, IMG_SIZE,1)\n"
      ]
    },
    {
      "cell_type": "code",
      "execution_count": null,
      "id": "7635d053",
      "metadata": {
        "colab": {
          "base_uri": "https://localhost:8080/"
        },
        "id": "7635d053",
        "outputId": "b7eb1786-f2ca-42d5-cb9c-2613432a30be"
      },
      "outputs": [
        {
          "output_type": "stream",
          "name": "stdout",
          "text": [
            "1/1 [==============================] - 0s 23ms/step\n"
          ]
        }
      ],
      "source": [
        "predictions=model.predict(newimg)"
      ]
    },
    {
      "cell_type": "code",
      "execution_count": null,
      "id": "683b5f35",
      "metadata": {
        "colab": {
          "base_uri": "https://localhost:8080/"
        },
        "id": "683b5f35",
        "outputId": "33db6927-3fc9-4cfc-f687-660c5631e575"
      },
      "outputs": [
        {
          "output_type": "stream",
          "name": "stdout",
          "text": [
            "6\n"
          ]
        }
      ],
      "source": [
        "print(np.argmax(predictions))"
      ]
    },
    {
      "cell_type": "code",
      "source": [],
      "metadata": {
        "id": "OOnd-dLtvuOa"
      },
      "id": "OOnd-dLtvuOa",
      "execution_count": null,
      "outputs": []
    }
  ],
  "metadata": {
    "kernelspec": {
      "display_name": "Python 3",
      "name": "python3"
    },
    "language_info": {
      "codemirror_mode": {
        "name": "ipython",
        "version": 3
      },
      "file_extension": ".py",
      "mimetype": "text/x-python",
      "name": "python",
      "nbconvert_exporter": "python",
      "pygments_lexer": "ipython3",
      "version": "3.9.12"
    },
    "colab": {
      "provenance": [],
      "gpuType": "T4",
      "include_colab_link": true
    },
    "accelerator": "GPU"
  },
  "nbformat": 4,
  "nbformat_minor": 5
}